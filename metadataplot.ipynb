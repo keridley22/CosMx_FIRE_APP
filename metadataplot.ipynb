{
 "cells": [
  {
   "cell_type": "code",
   "execution_count": 3,
   "metadata": {},
   "outputs": [
    {
     "name": "stdout",
     "output_type": "stream",
     "text": [
      "High-resolution TIFF saved to /Users/katherineridley/Projects/CosMx/APP/B1_metadata_visualisation.tif\n"
     ]
    }
   ],
   "source": [
    "import pandas as pd\n",
    "import matplotlib.pyplot as plt\n",
    "\n",
    "# Optionally force the Agg backend for non-interactive rendering\n",
    "plt.switch_backend('Agg')\n",
    "\n",
    "# Load metadata CSV (ensure the CSV has columns x_slide_mm and y_slide_mm)\n",
    "metadata = pd.read_csv(\"/Users/katherineridley/Projects/CosMx/APP/B1_metadata.csv\")\n",
    "\n",
    "# Create a figure and axis (10x10 inches)\n",
    "fig, ax = plt.subplots(figsize=(15, 15))\n",
    "\n",
    "# Create a scatter plot.\n",
    "# Note: In matplotlib, the marker size 's' is in points^2.\n",
    "# You may need to adjust the marker size to see individual points when zoomed in.\n",
    "ax.scatter(metadata['x_slide_mm'], metadata['y_slide_mm'], s=1, color='blue', alpha=0.5)\n",
    "\n",
    "# Set equal aspect ratio and labels.\n",
    "ax.set_title(\"Slide Metadata Visualisation\")\n",
    "ax.set_xlabel(\"x_slide_mm\")\n",
    "ax.set_ylabel(\"y_slide_mm\")\n",
    "ax.set_aspect('equal', adjustable='box')\n",
    "\n",
    "plt.tight_layout()\n",
    "\n",
    "# Save the figure as a TIFF file at 1500 dpi\n",
    "output_path = \"/Users/katherineridley/Projects/CosMx/APP/B1_metadata_visualisation.tif\"\n",
    "fig.savefig(output_path, dpi=1000, format=\"tiff\")\n",
    "\n",
    "print(f\"High-resolution TIFF saved to {output_path}\")\n"
   ]
  },
  {
   "cell_type": "code",
   "execution_count": null,
   "metadata": {},
   "outputs": [],
   "source": []
  }
 ],
 "metadata": {
  "kernelspec": {
   "display_name": "cosmxalign",
   "language": "python",
   "name": "python3"
  },
  "language_info": {
   "codemirror_mode": {
    "name": "ipython",
    "version": 3
   },
   "file_extension": ".py",
   "mimetype": "text/x-python",
   "name": "python",
   "nbconvert_exporter": "python",
   "pygments_lexer": "ipython3",
   "version": "3.13.2"
  }
 },
 "nbformat": 4,
 "nbformat_minor": 2
}
